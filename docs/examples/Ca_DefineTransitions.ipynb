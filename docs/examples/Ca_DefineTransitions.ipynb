{
 "cells": [
  {
   "cell_type": "markdown",
   "metadata": {
    "slideshow": {
     "slide_type": "slide"
    }
   },
   "source": [
    "# Spatial$^{*}$ Microsimulation Urban Metabolism Model (SMUM)\n",
    "\n",
    "<div class=\"image123\">\n",
    "    <div class=\"imgContainer\">\n",
    "        <img src=\"./logos/UNEnvironment.png\" alt=\"UNEP logo\" style=\"width:200px\">\n",
    "    </div>\n",
    "    <div class=\"imgContainer\">\n",
    "        <img src=\"./logos/GI-REC.png\" alt=\"GI_REC logo\" style=\"width:200px\">\n",
    "    </div>\n",
    "</div>\n",
    "\n",
    "# 3.a Defining simple transition scenarios\n",
    "\n",
    "[UN Environment](http://www.unep.org/)"
   ]
  },
  {
   "cell_type": "code",
   "execution_count": 13,
   "metadata": {
    "slideshow": {
     "slide_type": "skip"
    }
   },
   "outputs": [
    {
     "name": "stdout",
     "output_type": "stream",
     "text": [
      "2017-11-13 16:43:32.713565\n"
     ]
    }
   ],
   "source": [
    "import datetime; print(datetime.datetime.now())"
   ]
  },
  {
   "cell_type": "markdown",
   "metadata": {
    "slideshow": {
     "slide_type": "slide"
    }
   },
   "source": [
    "**Notebook Abstract:**\n",
    "\n",
    "The following notebook describes the process to construct simple **transition scenarios**.\n",
    "\n",
    "The transition scenarios are define as **efficiency** rates induced by **technology development** or **behavioral** changes. These rates can be used as proxies for all types of efficiency improvements.\n",
    "\n",
    "In order to define transition scenarios the model need the following information:\n",
    "\n",
    "1. A technology **penetration rate**. This defines the share of the population *adopting* the technology. The model uses `sampling rules` for the selection of the population adopting this technology.\n",
    "\n",
    "2. Development of **efficiency rates**. This define the actual technology development rate. "
   ]
  },
  {
   "cell_type": "markdown",
   "metadata": {
    "slideshow": {
     "slide_type": "slide"
    }
   },
   "source": [
    "## Import libraries"
   ]
  },
  {
   "cell_type": "code",
   "execution_count": 14,
   "metadata": {
    "collapsed": true,
    "slideshow": {
     "slide_type": "fragment"
    }
   },
   "outputs": [],
   "source": [
    "from urbanmetabolism.population.model import growth_rate\n",
    "from urbanmetabolism.population.model import plot_growth_rate\n",
    "from urbanmetabolism.population.model import reduce_consumption"
   ]
  },
  {
   "cell_type": "markdown",
   "metadata": {
    "slideshow": {
     "slide_type": "fragment"
    }
   },
   "source": [
    "In order to compute the transition scenarios we make use of three modules of the `urbanmetabolism` library:\n",
    "\n",
    "1. `growth_rate`. This module will return a vector with linear **growth rates** given a starting and end rate.\n",
    "\n",
    "2. `plot_growth_rate`. This a simple function to **visualize** the defined growth rates.\n",
    "\n",
    "3. `reduce_consumption`. This function creates **new samples** with reduced consumption levels for the selected selection of the population."
   ]
  },
  {
   "cell_type": "markdown",
   "metadata": {
    "collapsed": true,
    "slideshow": {
     "slide_type": "slide"
    }
   },
   "source": [
    "## Define simple population selection rules"
   ]
  },
  {
   "cell_type": "code",
   "execution_count": 15,
   "metadata": {
    "collapsed": true,
    "slideshow": {
     "slide_type": "fragment"
    }
   },
   "outputs": [],
   "source": [
    "sampling_rules = {\n",
    "    #\"i_Education == 'Education_Elementary_School'\": 100,\n",
    "    \"i_Education == 'Education_Post_Secondary'\": 20,\n",
    "    \"i_Education == 'Education_College'\":        20,\n",
    "    \"i_Education == 'Education_Post_Graduate'\":  20,\n",
    "    \"i_Urbanity == 'Urbanity_Urban'\":            30,\n",
    "    \"Income >= 180000\":                          30\n",
    "}"
   ]
  },
  {
   "cell_type": "markdown",
   "metadata": {
    "slideshow": {
     "slide_type": "fragment"
    }
   },
   "source": [
    "Part of the scenario development is to identified which section of the population will adopt the new technology. The model defined this by a **sampling probability**. This probability is initially define as a uniform distribution (i.e. each individual on the sample has equal probability of being selected). A scenario is defined by allocating new sampling probabilities to a section of the population, by defining sampling rules. The sampling rules are passes to the [query](http://pandas.pydata.org/pandas-docs/stable/generated/pandas.DataFrame.query.html) function of a pandas `DataFrame`.\n",
    "\n",
    "On the example above, all individuals with a `Income` larger of equal to 180 000 Philippine Pesos are 30 times more likely to adopt the technology that the rest of the population. The sampling probabilities will sum up. This means that an individual with `Income >= 180000` and living on an urban area `e_Urban == 'Urbanity_Urban'` is 60 times more likely to be selected (i.e. adopt a new technology) that other individuals."
   ]
  },
  {
   "cell_type": "markdown",
   "metadata": {
    "slideshow": {
     "slide_type": "slide"
    }
   },
   "source": [
    "### Initial sample data"
   ]
  },
  {
   "cell_type": "code",
   "execution_count": 16,
   "metadata": {
    "slideshow": {
     "slide_type": "fragment"
    }
   },
   "outputs": [
    {
     "data": {
      "text/html": [
       "<div>\n",
       "<style>\n",
       "    .dataframe thead tr:only-child th {\n",
       "        text-align: right;\n",
       "    }\n",
       "\n",
       "    .dataframe thead th {\n",
       "        text-align: left;\n",
       "    }\n",
       "\n",
       "    .dataframe tbody tr th {\n",
       "        vertical-align: top;\n",
       "    }\n",
       "</style>\n",
       "<table border=\"1\" class=\"dataframe\">\n",
       "  <thead>\n",
       "    <tr style=\"text-align: right;\">\n",
       "      <th></th>\n",
       "      <th>index</th>\n",
       "      <th>i_Sex</th>\n",
       "      <th>i_Urbanity</th>\n",
       "      <th>i_FamilySize</th>\n",
       "      <th>i_Age</th>\n",
       "      <th>i_Education</th>\n",
       "      <th>e_Lighting</th>\n",
       "      <th>e_TV</th>\n",
       "      <th>e_Cooking</th>\n",
       "      <th>e_Refrigeration</th>\n",
       "      <th>e_AC</th>\n",
       "      <th>Income</th>\n",
       "      <th>Electricity</th>\n",
       "      <th>Water</th>\n",
       "      <th>w</th>\n",
       "      <th>wf</th>\n",
       "    </tr>\n",
       "  </thead>\n",
       "  <tbody>\n",
       "    <tr>\n",
       "      <th>0</th>\n",
       "      <td>0</td>\n",
       "      <td>sex_female</td>\n",
       "      <td>Urbanity_Rural</td>\n",
       "      <td>Size_7</td>\n",
       "      <td>age_36_45</td>\n",
       "      <td>Education_College</td>\n",
       "      <td>Lighting_yes</td>\n",
       "      <td>TV_no</td>\n",
       "      <td>Cooking_no</td>\n",
       "      <td>Refrigeration_no</td>\n",
       "      <td>AC_no</td>\n",
       "      <td>268187.065618</td>\n",
       "      <td>73.724272</td>\n",
       "      <td>176.917317</td>\n",
       "      <td>33.914938</td>\n",
       "      <td>63.360260</td>\n",
       "    </tr>\n",
       "    <tr>\n",
       "      <th>1</th>\n",
       "      <td>1</td>\n",
       "      <td>sex_female</td>\n",
       "      <td>Urbanity_Urban</td>\n",
       "      <td>Size_5</td>\n",
       "      <td>age_26_35</td>\n",
       "      <td>Education_High_School</td>\n",
       "      <td>Lighting_yes</td>\n",
       "      <td>TV_yes</td>\n",
       "      <td>Cooking_no</td>\n",
       "      <td>Refrigeration_no</td>\n",
       "      <td>AC_no</td>\n",
       "      <td>188460.351488</td>\n",
       "      <td>61.682521</td>\n",
       "      <td>137.872051</td>\n",
       "      <td>33.914938</td>\n",
       "      <td>61.516392</td>\n",
       "    </tr>\n",
       "    <tr>\n",
       "      <th>2</th>\n",
       "      <td>2</td>\n",
       "      <td>sex_male</td>\n",
       "      <td>Urbanity_Urban</td>\n",
       "      <td>Size_4</td>\n",
       "      <td>age_76_85</td>\n",
       "      <td>Education_High_School</td>\n",
       "      <td>Lighting_yes</td>\n",
       "      <td>TV_yes</td>\n",
       "      <td>Cooking_no</td>\n",
       "      <td>Refrigeration_no</td>\n",
       "      <td>AC_no</td>\n",
       "      <td>210561.848027</td>\n",
       "      <td>70.225357</td>\n",
       "      <td>157.295495</td>\n",
       "      <td>33.914938</td>\n",
       "      <td>25.686429</td>\n",
       "    </tr>\n",
       "    <tr>\n",
       "      <th>3</th>\n",
       "      <td>3</td>\n",
       "      <td>sex_female</td>\n",
       "      <td>Urbanity_Urban</td>\n",
       "      <td>Size_4</td>\n",
       "      <td>age_56_65</td>\n",
       "      <td>Education_High_School</td>\n",
       "      <td>Lighting_yes</td>\n",
       "      <td>TV_yes</td>\n",
       "      <td>Cooking_no</td>\n",
       "      <td>Refrigeration_yes</td>\n",
       "      <td>AC_no</td>\n",
       "      <td>203062.522729</td>\n",
       "      <td>77.266206</td>\n",
       "      <td>150.001631</td>\n",
       "      <td>33.914938</td>\n",
       "      <td>31.996852</td>\n",
       "    </tr>\n",
       "    <tr>\n",
       "      <th>4</th>\n",
       "      <td>4</td>\n",
       "      <td>sex_male</td>\n",
       "      <td>Urbanity_Urban</td>\n",
       "      <td>Size_4</td>\n",
       "      <td>age_46_55</td>\n",
       "      <td>Education_Elementary_School</td>\n",
       "      <td>Lighting_yes</td>\n",
       "      <td>TV_yes</td>\n",
       "      <td>Cooking_no</td>\n",
       "      <td>Refrigeration_yes</td>\n",
       "      <td>AC_no</td>\n",
       "      <td>150016.233618</td>\n",
       "      <td>58.963442</td>\n",
       "      <td>107.158722</td>\n",
       "      <td>33.914938</td>\n",
       "      <td>38.383759</td>\n",
       "    </tr>\n",
       "  </tbody>\n",
       "</table>\n",
       "</div>"
      ],
      "text/plain": [
       "   index       i_Sex      i_Urbanity i_FamilySize      i_Age  \\\n",
       "0      0  sex_female  Urbanity_Rural       Size_7  age_36_45   \n",
       "1      1  sex_female  Urbanity_Urban       Size_5  age_26_35   \n",
       "2      2    sex_male  Urbanity_Urban       Size_4  age_76_85   \n",
       "3      3  sex_female  Urbanity_Urban       Size_4  age_56_65   \n",
       "4      4    sex_male  Urbanity_Urban       Size_4  age_46_55   \n",
       "\n",
       "                   i_Education    e_Lighting    e_TV   e_Cooking  \\\n",
       "0            Education_College  Lighting_yes   TV_no  Cooking_no   \n",
       "1        Education_High_School  Lighting_yes  TV_yes  Cooking_no   \n",
       "2        Education_High_School  Lighting_yes  TV_yes  Cooking_no   \n",
       "3        Education_High_School  Lighting_yes  TV_yes  Cooking_no   \n",
       "4  Education_Elementary_School  Lighting_yes  TV_yes  Cooking_no   \n",
       "\n",
       "     e_Refrigeration   e_AC         Income  Electricity       Water  \\\n",
       "0   Refrigeration_no  AC_no  268187.065618    73.724272  176.917317   \n",
       "1   Refrigeration_no  AC_no  188460.351488    61.682521  137.872051   \n",
       "2   Refrigeration_no  AC_no  210561.848027    70.225357  157.295495   \n",
       "3  Refrigeration_yes  AC_no  203062.522729    77.266206  150.001631   \n",
       "4  Refrigeration_yes  AC_no  150016.233618    58.963442  107.158722   \n",
       "\n",
       "           w         wf  \n",
       "0  33.914938  63.360260  \n",
       "1  33.914938  61.516392  \n",
       "2  33.914938  25.686429  \n",
       "3  33.914938  31.996852  \n",
       "4  33.914938  38.383759  "
      ]
     },
     "execution_count": 16,
     "metadata": {},
     "output_type": "execute_result"
    }
   ],
   "source": [
    "import pandas as pd\n",
    "file_name = \"data/survey_Sorsogon_Electricity_Water_wbias_projected_dynamic_resampled_1000_{}.csv\"\n",
    "sample_survey = pd.read_csv(file_name.format(2010), index_col=0)\n",
    "sample_survey.head()"
   ]
  },
  {
   "cell_type": "markdown",
   "metadata": {
    "slideshow": {
     "slide_type": "fragment"
    }
   },
   "source": [
    "The `reduce_consumption` module will use as input the samples created by the MCMC algorithm and select specific sections of the population to reduce their consumption levels.\n",
    "\n",
    "The input data is the constructed proxy sample data. Depending on the simulation type (reweight/resample) the input data is a single file containing the weights for each simulation year (reweight) or individual samples for each simulation year (resample)."
   ]
  },
  {
   "cell_type": "markdown",
   "metadata": {
    "slideshow": {
     "slide_type": "subslide"
    }
   },
   "source": [
    "Most of the variables of the sample data is formatted as categorical data. The sample data shown above presents individual records with the predefine simulation variables as well as the computed **Income**, **Electricity** and **Water** consumption levels. The sample also contains two sets of weights: **w** and **wf**. The `w` weights correspond to the weights assign by the MCMC algorithm (uniform distributed) while the `wf` (final weights) are the weights computed by the GREGWT algorithm. The `reduce_consumption` function will use the `wf` weights for the selection of individuals."
   ]
  },
  {
   "cell_type": "code",
   "execution_count": 17,
   "metadata": {
    "slideshow": {
     "slide_type": "fragment"
    }
   },
   "outputs": [
    {
     "data": {
      "text/plain": [
       "array(['Education_College', 'Education_High_School',\n",
       "       'Education_Elementary_School', 'Education_Post_Secondary',\n",
       "       'Education_Post_Graduate'], dtype=object)"
      ]
     },
     "execution_count": 17,
     "metadata": {},
     "output_type": "execute_result"
    }
   ],
   "source": [
    "sample_survey.loc[:, 'i_Education'].unique()"
   ]
  },
  {
   "cell_type": "code",
   "execution_count": 18,
   "metadata": {
    "slideshow": {
     "slide_type": "fragment"
    }
   },
   "outputs": [
    {
     "data": {
      "image/png": "[encoded data removed]",
      "text/plain": [
       "<matplotlib.figure.Figure at 0x7fd7ff1ca400>"
      ]
     },
     "metadata": {},
     "output_type": "display_data"
    }
   ],
   "source": [
    "sample_survey.loc[:, ['i_Education', 'wf']].groupby('i_Education').sum().plot.bar();"
   ]
  },
  {
   "cell_type": "markdown",
   "metadata": {
    "slideshow": {
     "slide_type": "slide"
    }
   },
   "source": [
    "### Define growth rates"
   ]
  },
  {
   "cell_type": "code",
   "execution_count": 19,
   "metadata": {
    "collapsed": true,
    "slideshow": {
     "slide_type": "fragment"
    }
   },
   "outputs": [],
   "source": [
    "Elec  = growth_rate(0.1 , 0.8 )\n",
    "Water = growth_rate(0.05, 0.2 )\n",
    "pr    = growth_rate(0.1 , 0.6, start=2016)"
   ]
  },
  {
   "cell_type": "markdown",
   "metadata": {
    "slideshow": {
     "slide_type": "fragment"
    }
   },
   "source": [
    "With help of the `growth_rate()` function we define the **efficiency growth rate** and the technology penetration rate. For the technology penetration rate we define the start year to be equal to the benchmark year (2016). The function will automatically include the necessary zeros at the beginning of the growth rate vector.\n",
    "The function `plot_growth_rate()` allow us to **visualize** the predefined efficiency growth rates and the technology growth rates."
   ]
  },
  {
   "cell_type": "code",
   "execution_count": 20,
   "metadata": {
    "scrolled": false,
    "slideshow": {
     "slide_type": "fragment"
    }
   },
   "outputs": [
    {
     "data": {
      "image/png": "[encoded data removed]",
      "text/plain": [
       "<matplotlib.figure.Figure at 0x7fd7ff1ae5f8>"
      ]
     },
     "metadata": {},
     "output_type": "display_data"
    }
   ],
   "source": [
    "plot_growth_rate(\n",
    "    {\"Technology penetration rate\": pr,\n",
    "     \"Electricity efficiency increase rate\": Elec,\n",
    "     \"Water efficiency increase rate\": Water},\n",
    "     \"scenario 1\")"
   ]
  },
  {
   "cell_type": "markdown",
   "metadata": {
    "slideshow": {
     "slide_type": "slide"
    }
   },
   "source": [
    "### Reduce consumption"
   ]
  },
  {
   "cell_type": "markdown",
   "metadata": {
    "slideshow": {
     "slide_type": "fragment"
    }
   },
   "source": [
    "The actual modifications on the sample is performed by the `reduce_consumption()` function. The function requires as input the following parameters:\n",
    "\n",
    "1. A base file name for the samples (in case of implementing the resample method).\n",
    "2. The sample year (in this case generated within the loop via `range(2010, 2031)`.\n",
    "3. The penetration rate for the sample year (iterated from vector `pr`).\n",
    "4. The predefined `sampling_rules`.\n",
    "5. A dictionary containing the efficiency rates for specific variables. (in this case for Electricity and Water).\n",
    "6. A name for the scenario. "
   ]
  },
  {
   "cell_type": "code",
   "execution_count": 21,
   "metadata": {
    "slideshow": {
     "slide_type": "fragment"
    }
   },
   "outputs": [
    {
     "name": "stdout",
     "output_type": "stream",
     "text": [
      "00.00%   Electricity   reduction; efficiency rate 10.00%; year 2010 and penetration rate 00.00\n",
      "00.00%      Water      reduction; efficiency rate 05.00%; year 2010 and penetration rate 00.00\n",
      "00.00%   Electricity   reduction; efficiency rate 13.50%; year 2011 and penetration rate 00.00\n",
      "00.00%      Water      reduction; efficiency rate 05.75%; year 2011 and penetration rate 00.00\n",
      "00.00%   Electricity   reduction; efficiency rate 17.00%; year 2012 and penetration rate 00.00\n",
      "00.00%      Water      reduction; efficiency rate 06.50%; year 2012 and penetration rate 00.00\n",
      "00.00%   Electricity   reduction; efficiency rate 20.50%; year 2013 and penetration rate 00.00\n",
      "00.00%      Water      reduction; efficiency rate 07.25%; year 2013 and penetration rate 00.00\n",
      "00.00%   Electricity   reduction; efficiency rate 24.00%; year 2014 and penetration rate 00.00\n",
      "00.00%      Water      reduction; efficiency rate 08.00%; year 2014 and penetration rate 00.00\n",
      "00.00%   Electricity   reduction; efficiency rate 27.50%; year 2015 and penetration rate 00.00\n",
      "00.00%      Water      reduction; efficiency rate 08.75%; year 2015 and penetration rate 00.00\n",
      "03.56%   Electricity   reduction; efficiency rate 31.00%; year 2016 and penetration rate 00.10\n",
      "01.14%      Water      reduction; efficiency rate 09.50%; year 2016 and penetration rate 00.10\n",
      "05.25%   Electricity   reduction; efficiency rate 34.50%; year 2017 and penetration rate 00.14\n",
      "01.64%      Water      reduction; efficiency rate 10.25%; year 2017 and penetration rate 00.14\n",
      "07.19%   Electricity   reduction; efficiency rate 38.00%; year 2018 and penetration rate 00.17\n",
      "02.21%      Water      reduction; efficiency rate 11.00%; year 2018 and penetration rate 00.17\n",
      "09.49%   Electricity   reduction; efficiency rate 41.50%; year 2019 and penetration rate 00.21\n",
      "02.86%      Water      reduction; efficiency rate 11.75%; year 2019 and penetration rate 00.21\n",
      "12.10%   Electricity   reduction; efficiency rate 45.00%; year 2020 and penetration rate 00.24\n",
      "03.55%      Water      reduction; efficiency rate 12.50%; year 2020 and penetration rate 00.24\n",
      "14.76%   Electricity   reduction; efficiency rate 48.50%; year 2021 and penetration rate 00.28\n",
      "04.28%      Water      reduction; efficiency rate 13.25%; year 2021 and penetration rate 00.28\n",
      "17.67%   Electricity   reduction; efficiency rate 52.00%; year 2022 and penetration rate 00.31\n",
      "05.08%      Water      reduction; efficiency rate 14.00%; year 2022 and penetration rate 00.31\n",
      "20.81%   Electricity   reduction; efficiency rate 55.50%; year 2023 and penetration rate 00.35\n",
      "05.85%      Water      reduction; efficiency rate 14.75%; year 2023 and penetration rate 00.35\n",
      "24.17%   Electricity   reduction; efficiency rate 59.00%; year 2024 and penetration rate 00.39\n",
      "06.73%      Water      reduction; efficiency rate 15.50%; year 2024 and penetration rate 00.39\n",
      "27.86%   Electricity   reduction; efficiency rate 62.50%; year 2025 and penetration rate 00.42\n",
      "07.62%      Water      reduction; efficiency rate 16.25%; year 2025 and penetration rate 00.42\n",
      "31.89%   Electricity   reduction; efficiency rate 66.00%; year 2026 and penetration rate 00.46\n",
      "08.64%      Water      reduction; efficiency rate 17.00%; year 2026 and penetration rate 00.46\n",
      "36.14%   Electricity   reduction; efficiency rate 69.50%; year 2027 and penetration rate 00.49\n",
      "09.69%      Water      reduction; efficiency rate 17.75%; year 2027 and penetration rate 00.49\n",
      "40.16%   Electricity   reduction; efficiency rate 73.00%; year 2028 and penetration rate 00.53\n",
      "10.60%      Water      reduction; efficiency rate 18.50%; year 2028 and penetration rate 00.53\n",
      "44.69%   Electricity   reduction; efficiency rate 76.50%; year 2029 and penetration rate 00.56\n",
      "11.64%      Water      reduction; efficiency rate 19.25%; year 2029 and penetration rate 00.56\n",
      "49.34%   Electricity   reduction; efficiency rate 80.00%; year 2030 and penetration rate 00.60\n",
      "12.68%      Water      reduction; efficiency rate 20.00%; year 2030 and penetration rate 00.60\n"
     ]
    }
   ],
   "source": [
    "for y, p, elec, water in zip(range(2010, 2031), pr, Elec, Water):\n",
    "    _ = reduce_consumption(\n",
    "        file_name,\n",
    "        y, p, sampling_rules,\n",
    "        {'Electricity':elec, 'Water':water},\n",
    "        scenario_name = \"scenario 1\")"
   ]
  },
  {
   "cell_type": "code",
   "execution_count": 22,
   "metadata": {
    "collapsed": true,
    "slideshow": {
     "slide_type": "slide"
    }
   },
   "outputs": [],
   "source": [
    "Elec  = growth_rate(0.1 , 0.9 )\n",
    "Water = growth_rate(0.05, 0.7 )\n",
    "pr    = growth_rate(0.1 , 0.8, start=2016)"
   ]
  },
  {
   "cell_type": "markdown",
   "metadata": {
    "slideshow": {
     "slide_type": "fragment"
    }
   },
   "source": [
    "By modifying the growht rates we can create different scenarios."
   ]
  },
  {
   "cell_type": "code",
   "execution_count": 23,
   "metadata": {
    "slideshow": {
     "slide_type": "fragment"
    }
   },
   "outputs": [
    {
     "data": {
      "image/png": "[encoded data removed]",
      "text/plain": [
       "<matplotlib.figure.Figure at 0x7fd7fe205470>"
      ]
     },
     "metadata": {},
     "output_type": "display_data"
    }
   ],
   "source": [
    "plot_growth_rate(\n",
    "    {\"Technology penetration rate\": pr,\n",
    "     \"Electricity efficiency increase rate\": Elec,\n",
    "     \"Water efficiency increase rate\": Water},\n",
    "     \"scenario 2\")"
   ]
  },
  {
   "cell_type": "code",
   "execution_count": 24,
   "metadata": {
    "slideshow": {
     "slide_type": "slide"
    }
   },
   "outputs": [
    {
     "name": "stdout",
     "output_type": "stream",
     "text": [
      "00.00%   Electricity   reduction; efficiency rate 10.00%; year 2010 and penetration rate 00.00\n",
      "00.00%      Water      reduction; efficiency rate 05.00%; year 2010 and penetration rate 00.00\n",
      "00.00%   Electricity   reduction; efficiency rate 14.00%; year 2011 and penetration rate 00.00\n",
      "00.00%      Water      reduction; efficiency rate 08.25%; year 2011 and penetration rate 00.00\n",
      "00.00%   Electricity   reduction; efficiency rate 18.00%; year 2012 and penetration rate 00.00\n",
      "00.00%      Water      reduction; efficiency rate 11.50%; year 2012 and penetration rate 00.00\n",
      "00.00%   Electricity   reduction; efficiency rate 22.00%; year 2013 and penetration rate 00.00\n",
      "00.00%      Water      reduction; efficiency rate 14.75%; year 2013 and penetration rate 00.00\n",
      "00.00%   Electricity   reduction; efficiency rate 26.00%; year 2014 and penetration rate 00.00\n",
      "00.00%      Water      reduction; efficiency rate 18.00%; year 2014 and penetration rate 00.00\n",
      "00.00%   Electricity   reduction; efficiency rate 30.00%; year 2015 and penetration rate 00.00\n",
      "00.00%      Water      reduction; efficiency rate 21.25%; year 2015 and penetration rate 00.00\n",
      "03.87%   Electricity   reduction; efficiency rate 34.00%; year 2016 and penetration rate 00.10\n",
      "02.93%      Water      reduction; efficiency rate 24.50%; year 2016 and penetration rate 00.10\n",
      "06.45%   Electricity   reduction; efficiency rate 38.00%; year 2017 and penetration rate 00.15\n",
      "04.91%      Water      reduction; efficiency rate 27.75%; year 2017 and penetration rate 00.15\n",
      "09.32%   Electricity   reduction; efficiency rate 42.00%; year 2018 and penetration rate 00.20\n",
      "07.30%      Water      reduction; efficiency rate 31.00%; year 2018 and penetration rate 00.20\n",
      "12.70%   Electricity   reduction; efficiency rate 46.00%; year 2019 and penetration rate 00.25\n",
      "10.05%      Water      reduction; efficiency rate 34.25%; year 2019 and penetration rate 00.25\n",
      "16.62%   Electricity   reduction; efficiency rate 50.00%; year 2020 and penetration rate 00.30\n",
      "13.16%      Water      reduction; efficiency rate 37.50%; year 2020 and penetration rate 00.30\n",
      "20.64%   Electricity   reduction; efficiency rate 54.00%; year 2021 and penetration rate 00.35\n",
      "16.51%      Water      reduction; efficiency rate 40.75%; year 2021 and penetration rate 00.35\n",
      "24.99%   Electricity   reduction; efficiency rate 58.00%; year 2022 and penetration rate 00.40\n",
      "20.22%      Water      reduction; efficiency rate 44.00%; year 2022 and penetration rate 00.40\n",
      "29.82%   Electricity   reduction; efficiency rate 62.00%; year 2023 and penetration rate 00.45\n",
      "23.96%      Water      reduction; efficiency rate 47.25%; year 2023 and penetration rate 00.45\n",
      "34.94%   Electricity   reduction; efficiency rate 66.00%; year 2024 and penetration rate 00.50\n",
      "28.19%      Water      reduction; efficiency rate 50.50%; year 2024 and penetration rate 00.50\n",
      "40.55%   Electricity   reduction; efficiency rate 70.00%; year 2025 and penetration rate 00.55\n",
      "32.65%      Water      reduction; efficiency rate 53.75%; year 2025 and penetration rate 00.55\n",
      "46.70%   Electricity   reduction; efficiency rate 74.00%; year 2026 and penetration rate 00.60\n",
      "37.69%      Water      reduction; efficiency rate 57.00%; year 2026 and penetration rate 00.60\n",
      "53.20%   Electricity   reduction; efficiency rate 78.00%; year 2027 and penetration rate 00.65\n",
      "42.94%      Water      reduction; efficiency rate 60.25%; year 2027 and penetration rate 00.65\n",
      "59.43%   Electricity   reduction; efficiency rate 82.00%; year 2028 and penetration rate 00.70\n",
      "47.66%      Water      reduction; efficiency rate 63.50%; year 2028 and penetration rate 00.70\n",
      "66.40%   Electricity   reduction; efficiency rate 86.00%; year 2029 and penetration rate 00.75\n",
      "53.05%      Water      reduction; efficiency rate 66.75%; year 2029 and penetration rate 00.75\n",
      "73.61%   Electricity   reduction; efficiency rate 90.00%; year 2030 and penetration rate 00.80\n",
      "58.53%      Water      reduction; efficiency rate 70.00%; year 2030 and penetration rate 00.80\n"
     ]
    }
   ],
   "source": [
    "for y, p, elec, water in zip(range(2010, 2031), pr, Elec, Water):\n",
    "    _ = reduce_consumption(\n",
    "        file_name,\n",
    "        y, p, sampling_rules,\n",
    "        {'Electricity':elec, 'Water':water},\n",
    "        scenario_name = \"scenario 2\")"
   ]
  },
  {
   "cell_type": "markdown",
   "metadata": {
    "slideshow": {
     "slide_type": "slide"
    }
   },
   "source": [
    "<div class=\"image123\">\n",
    "    <div class=\"imgContainer\">\n",
    "        <img src=\"./logos/UNEnvironment.png\" alt=\"UNEP logo\" style=\"width:200px\">\n",
    "    </div>\n",
    "    <div class=\"imgContainer\">\n",
    "        <img src=\"./logos/GI-REC.png\" alt=\"GI_REC logo\" style=\"width:200px\">\n",
    "    </div>\n",
    "</div>\n",
    "\n",
    "# 3.a Defining simple transition scenarios\n",
    "\n",
    "[UN Environment](http://www.unep.org/)\n",
    "\n",
    "[Home](Welcome.ipynb)\n",
    "\n",
    "[Next](Cb_VisualizeTransitions.ipynb) (3.b) Visualize transition scenarios"
   ]
  }
 ],
 "metadata": {
  "kernelspec": {
   "display_name": "Python 3",
   "language": "python",
   "name": "python3"
  },
  "language_info": {
   "codemirror_mode": {
    "name": "ipython",
    "version": 3
   },
   "file_extension": ".py",
   "mimetype": "text/x-python",
   "name": "python",
   "nbconvert_exporter": "python",
   "pygments_lexer": "ipython3",
   "version": "3.6.3"
  }
 },
 "nbformat": 4,
 "nbformat_minor": 2
}
