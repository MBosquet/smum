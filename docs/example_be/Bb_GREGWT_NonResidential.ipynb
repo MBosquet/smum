{
 "cells": [
  {
   "cell_type": "markdown",
   "metadata": {
    "slideshow": {
     "slide_type": "slide"
    }
   },
   "source": [
    "# Spatial$^{*}$ Microsimulation Urban Metabolism Model (SMUM)\n",
    "\n",
    "## Case Study: Brussels\n",
    "\n",
    "<div class=\"image123\">\n",
    "    <div class=\"imgContainer\">\n",
    "        <img src=\"./logos/UNEnvironment.png\" alt=\"UNEP logo\" style=\"width:200px\">\n",
    "    </div>\n",
    "    <div class=\"imgContainer\">\n",
    "        <img src=\"./logos/GI-REC.png\" alt=\"GI_REC logo\" style=\"width:200px\">\n",
    "    </div>\n",
    "</div>\n",
    "\n",
    "# 2.b Non-Residential Model\n",
    "\n",
    "[UN Environment](http://www.unep.org/)"
   ]
  },
  {
   "cell_type": "code",
   "execution_count": 11,
   "metadata": {
    "slideshow": {
     "slide_type": "skip"
    }
   },
   "outputs": [
    {
     "name": "stdout",
     "output_type": "stream",
     "text": [
      "2018-02-15 16:37:53.979823\n"
     ]
    }
   ],
   "source": [
    "import datetime; print(datetime.datetime.now())"
   ]
  },
  {
   "cell_type": "markdown",
   "metadata": {
    "slideshow": {
     "slide_type": "slide"
    }
   },
   "source": [
    "**Notebook abstract**\n",
    "\n",
    "This notebook shows the main sampling and reweighting algorithm for the non-residential sector."
   ]
  },
  {
   "cell_type": "markdown",
   "metadata": {
    "slideshow": {
     "slide_type": "slide"
    }
   },
   "source": [
    "## Import libraries"
   ]
  },
  {
   "cell_type": "code",
   "execution_count": 12,
   "metadata": {
    "slideshow": {
     "slide_type": "fragment"
    }
   },
   "outputs": [],
   "source": [
    "from urbanmetabolism.population.model import run_calibrated_model\n",
    "from urbanmetabolism.population.model import plot_data_projection\n",
    "from urbanmetabolism.population.model import TableModel"
   ]
  },
  {
   "cell_type": "code",
   "execution_count": 13,
   "metadata": {},
   "outputs": [],
   "source": [
    "#from urbanmetabolism._scripts.material_btyp import get_den"
   ]
  },
  {
   "cell_type": "code",
   "execution_count": 14,
   "metadata": {},
   "outputs": [],
   "source": [
    "#year = 2030\n",
    "#sqm = 60\n",
    "#construction = \"SFH\"\n",
    "#d = get_den(year, construction, sqm)"
   ]
  },
  {
   "cell_type": "markdown",
   "metadata": {
    "slideshow": {
     "slide_type": "slide"
    }
   },
   "source": [
    "## Global variables"
   ]
  },
  {
   "cell_type": "code",
   "execution_count": 15,
   "metadata": {
    "slideshow": {
     "slide_type": "fragment"
    }
   },
   "outputs": [],
   "source": [
    "iterations = 10000\n",
    "benchmark_year = 2016\n",
    "census_file = 'data/benchmarks_nonresidential.csv'\n",
    "typ = 'resampled'\n",
    "model_name = 'Brussels_NonResidentialElectricity_wbias_projected_dynamic_{}'.format(typ)\n",
    "verbose = False\n",
    "drop_col_survey = ['h_BuildingHeat', 'c_BuldingCool', 'e_BuildingElec',\n",
    "                   'h_BuildingSqm', 'c_BuildingSqm']"
   ]
  },
  {
   "cell_type": "markdown",
   "metadata": {
    "slideshow": {
     "slide_type": "slide"
    }
   },
   "source": [
    "## Define model"
   ]
  },
  {
   "cell_type": "code",
   "execution_count": 16,
   "metadata": {},
   "outputs": [],
   "source": [
    "tm = TableModel(census_file = census_file, verbose=verbose)\n",
    "table_model_name = 'data/table_elec_nr_{}.csv'"
   ]
  },
  {
   "cell_type": "markdown",
   "metadata": {},
   "source": [
    "### Electricity"
   ]
  },
  {
   "cell_type": "code",
   "execution_count": 17,
   "metadata": {
    "slideshow": {
     "slide_type": "fragment"
    }
   },
   "outputs": [],
   "source": [
    "estimate_var = 'elec'\n",
    "tm.add_model(table_model_name.format('e'), estimate_var, static = True)\n",
    "estimate_var = 'heat'\n",
    "tm.add_model(table_model_name.format('h'), estimate_var, static = True)\n",
    "estimate_var = 'cool'\n",
    "tm.add_model(table_model_name.format('c'), estimate_var, static = True)\n",
    "#tm.update_dynamic_model(estimate_var, specific_col = 'BuildingKwh', static=True)"
   ]
  },
  {
   "cell_type": "code",
   "execution_count": 18,
   "metadata": {
    "slideshow": {
     "slide_type": "fragment"
    }
   },
   "outputs": [
    {
     "data": {
      "text/html": [
       "<div>\n",
       "<style scoped>\n",
       "    .dataframe tbody tr th:only-of-type {\n",
       "        vertical-align: middle;\n",
       "    }\n",
       "\n",
       "    .dataframe tbody tr th {\n",
       "        vertical-align: top;\n",
       "    }\n",
       "\n",
       "    .dataframe thead th {\n",
       "        text-align: right;\n",
       "    }\n",
       "</style>\n",
       "<table border=\"1\" class=\"dataframe\">\n",
       "  <thead>\n",
       "    <tr style=\"text-align: right;\">\n",
       "      <th></th>\n",
       "      <th>co_mu</th>\n",
       "      <th>co_sd</th>\n",
       "      <th>p</th>\n",
       "      <th>dis</th>\n",
       "      <th>lb</th>\n",
       "      <th>ub</th>\n",
       "    </tr>\n",
       "  </thead>\n",
       "  <tbody>\n",
       "    <tr>\n",
       "      <th>c_BuildingSqm</th>\n",
       "      <td>3600.0,525.0,11100.0,12000.0,4650.0,105.0,105....</td>\n",
       "      <td>36.0,5.25,111.0,120.0,46.5,1.05,1.05,0.39,1.05...</td>\n",
       "      <td>0.00383471907281,0.00152179390275,0.0001305114...</td>\n",
       "      <td>Deterministic;c;Categorical</td>\n",
       "      <td>0</td>\n",
       "      <td>inf</td>\n",
       "    </tr>\n",
       "    <tr>\n",
       "      <th>c_BuildingCool</th>\n",
       "      <td>42.9002267754,125.188571429,23.4353153153,31.9...</td>\n",
       "      <td>0.429002267754,1.25188571429,0.234353153153,0....</td>\n",
       "      <td>0.00383471907281,0.00152179390275,0.0001305114...</td>\n",
       "      <td>Deterministic;BuildingSqm;Categorical</td>\n",
       "      <td>0</td>\n",
       "      <td>inf</td>\n",
       "    </tr>\n",
       "  </tbody>\n",
       "</table>\n",
       "</div>"
      ],
      "text/plain": [
       "                                                            co_mu  \\\n",
       "c_BuildingSqm   3600.0,525.0,11100.0,12000.0,4650.0,105.0,105....   \n",
       "c_BuildingCool  42.9002267754,125.188571429,23.4353153153,31.9...   \n",
       "\n",
       "                                                            co_sd  \\\n",
       "c_BuildingSqm   36.0,5.25,111.0,120.0,46.5,1.05,1.05,0.39,1.05...   \n",
       "c_BuildingCool  0.429002267754,1.25188571429,0.234353153153,0....   \n",
       "\n",
       "                                                                p  \\\n",
       "c_BuildingSqm   0.00383471907281,0.00152179390275,0.0001305114...   \n",
       "c_BuildingCool  0.00383471907281,0.00152179390275,0.0001305114...   \n",
       "\n",
       "                                                  dis lb   ub  \n",
       "c_BuildingSqm             Deterministic;c;Categorical  0  inf  \n",
       "c_BuildingCool  Deterministic;BuildingSqm;Categorical  0  inf  "
      ]
     },
     "execution_count": 18,
     "metadata": {},
     "output_type": "execute_result"
    }
   ],
   "source": [
    "tm.models['cool'].loc[2020]"
   ]
  },
  {
   "cell_type": "code",
   "execution_count": 19,
   "metadata": {},
   "outputs": [],
   "source": [
    "formula_nrb = \"c_e_BuildingElec * e_BuildingElec * c_e_BuildingSqm * e_BuildingSqm\"\n",
    "tm.add_formula(formula_nrb, 'elec')"
   ]
  },
  {
   "cell_type": "code",
   "execution_count": 20,
   "metadata": {},
   "outputs": [],
   "source": [
    "formula_nrb = \"c_h_BuildingHeat * h_BuildingHeat * c_e_BuildingSqm * e_BuildingSqm\"\n",
    "tm.add_formula(formula_nrb, 'heat')"
   ]
  },
  {
   "cell_type": "code",
   "execution_count": 21,
   "metadata": {},
   "outputs": [],
   "source": [
    "formula_nrb = \"c_c_BuildingCool * c_BuildingCool * c_e_BuildingSqm * e_BuildingSqm\"\n",
    "tm.add_formula(formula_nrb, 'cool')"
   ]
  },
  {
   "cell_type": "code",
   "execution_count": 22,
   "metadata": {
    "slideshow": {
     "slide_type": "slide"
    }
   },
   "outputs": [
    {
     "name": "stdout",
     "output_type": "stream",
     "text": [
      "creating data/tableModel_elec.xlsx\n",
      "creating data/tableModel_heat.xlsx\n",
      "creating data/tableModel_cool.xlsx\n"
     ]
    }
   ],
   "source": [
    "table_model = tm.make_model()\n",
    "tm.to_excel()"
   ]
  },
  {
   "cell_type": "markdown",
   "metadata": {
    "slideshow": {
     "slide_type": "slide"
    }
   },
   "source": [
    "## Run model"
   ]
  },
  {
   "cell_type": "code",
   "execution_count": null,
   "metadata": {
    "scrolled": false,
    "slideshow": {
     "slide_type": "fragment"
    }
   },
   "outputs": [],
   "source": [
    "fw = run_calibrated_model(\n",
    "    table_model,\n",
    "    verbose = verbose,\n",
    "    project = typ,\n",
    "    census_file = census_file,\n",
    "    year = benchmark_year,\n",
    "    population_size = False,\n",
    "    name = '{}_{}'.format(model_name, iterations),\n",
    "    iterations = iterations,\n",
    "    align_census = False,\n",
    "    drop_col_survey = drop_col_survey\n",
    ")"
   ]
  },
  {
   "cell_type": "markdown",
   "metadata": {
    "slideshow": {
     "slide_type": "slide"
    }
   },
   "source": [
    "## Plot results"
   ]
  },
  {
   "cell_type": "code",
   "execution_count": 24,
   "metadata": {
    "slideshow": {
     "slide_type": "fragment"
    }
   },
   "outputs": [],
   "source": [
    "reweighted_survey = 'data/survey_{}_{}'.format(model_name, iterations)"
   ]
  },
  {
   "cell_type": "code",
   "execution_count": 28,
   "metadata": {
    "slideshow": {
     "slide_type": "fragment"
    }
   },
   "outputs": [
    {
     "data": {
      "image/png": "[encoded data removed]",
      "text/plain": [
       "<matplotlib.figure.Figure at 0x7f363e3f3588>"
      ]
     },
     "metadata": {},
     "output_type": "display_data"
    }
   ],
   "source": [
    "data = plot_data_projection(\n",
    "    reweighted_survey, [estimate_var], \"{}, {}\".format(iterations, typ),\n",
    "    start_year = 2016, end_year = 2025, aspect_ratio = 2,\n",
    "    benchmark_year = benchmark_year, unit = \"building\")"
   ]
  },
  {
   "cell_type": "markdown",
   "metadata": {
    "slideshow": {
     "slide_type": "slide"
    }
   },
   "source": [
    "<div class=\"image123\">\n",
    "    <div class=\"imgContainer\">\n",
    "        <img src=\"./logos/UNEnvironment.png\" alt=\"UNEP logo\" style=\"width:200px\">\n",
    "    </div>\n",
    "    <div class=\"imgContainer\">\n",
    "        <img src=\"./logos/GI-REC.png\" alt=\"GI_REC logo\" style=\"width:200px\">\n",
    "    </div>\n",
    "</div>\n",
    "\n",
    "# 2.b Non-Residential Model\n",
    "\n",
    "[UN Environment](http://www.unep.org/)\n",
    "\n",
    "[Home](Welcome.ipynb)\n",
    "\n",
    "[Next](Bc_GREGWT_validation_wbias.ipynb) (2.c) Model Internal Validation"
   ]
  }
 ],
 "metadata": {
  "kernelspec": {
   "display_name": "Python 3",
   "language": "python",
   "name": "python3"
  },
  "language_info": {
   "codemirror_mode": {
    "name": "ipython",
    "version": 3
   },
   "file_extension": ".py",
   "mimetype": "text/x-python",
   "name": "python",
   "nbconvert_exporter": "python",
   "pygments_lexer": "ipython3",
   "version": "3.6.4"
  }
 },
 "nbformat": 4,
 "nbformat_minor": 2
}
