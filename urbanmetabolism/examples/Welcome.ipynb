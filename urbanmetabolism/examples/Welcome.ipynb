{
 "cells": [
  {
   "cell_type": "markdown",
   "metadata": {
    "collapsed": true
   },
   "source": [
    "<div class=\"image123\">\n",
    "    <div class=\"imgContainer\">\n",
    "        <img src=\"./logos/UNEnvironment.png\" alt=\"UNEP logo\" style=\"width:200px\">\n",
    "    </div>\n",
    "    <div class=\"imgContainer\">\n",
    "        <img src=\"./logos/GI-REC.png\" alt=\"GI_REC logo\" style=\"width:200px\">\n",
    "    </div>\n",
    "</div>\n",
    "\n",
    "# Spatial$^{*}$ Microsimulation Urban Metabolism Model (SMUM)\n",
    "\n",
    "[UN Environment](http://www.unep.org/)\n",
    "\n",
    "$^{*}$[Under development](https://github.com/emunozh/um)"
   ]
  },
  {
   "cell_type": "markdown",
   "metadata": {},
   "source": [
    "## Abstract:\n",
    "\n",
    "This is a simple implementation example of the developed **Spatial Microsimulation Urban Metabolism Model (SMUM)**.\n",
    "\n",
    "The aim of this model is to identify and quantify the impact of transition pathways to a circular economy.\n",
    "\n",
    "Two main method are implemented in the model, giving it it’s name:\n",
    "\n",
    "1. A Spatial Microsimulation creates a synthetic population; and\n",
    "2. An Urban Metabolism approach is used to benchmark consumption level at a city-level or neighborhood level (making it spatial)."
   ]
  },
  {
   "cell_type": "markdown",
   "metadata": {},
   "source": [
    "## (1) Constructing a synthetic population:"
   ]
  },
  {
   "cell_type": "markdown",
   "metadata": {
    "collapsed": true
   },
   "source": [
    "## (2) Constructing scenarions:\n",
    "\n",
    "[(a) Define Transition Scenarions](a_DefineTransitions.ipynb)\n",
    "\n",
    "[(b) Visualize transition scenarios](b_VisualizeTransitions.ipynb)"
   ]
  }
 ],
 "metadata": {
  "kernelspec": {
   "display_name": "Python 3",
   "language": "python",
   "name": "python3"
  },
  "language_info": {
   "codemirror_mode": {
    "name": "ipython",
    "version": 3
   },
   "file_extension": ".py",
   "mimetype": "text/x-python",
   "name": "python",
   "nbconvert_exporter": "python",
   "pygments_lexer": "ipython3",
   "version": "3.6.2"
  }
 },
 "nbformat": 4,
 "nbformat_minor": 2
}
