{
 "cells": [
  {
   "cell_type": "markdown",
   "metadata": {},
   "source": [
    "# Dynamic Model (GREGWT)\n",
    "\n",
    "UN Environment"
   ]
  },
  {
   "cell_type": "code",
   "execution_count": 1,
   "metadata": {},
   "outputs": [
    {
     "name": "stdout",
     "output_type": "stream",
     "text": [
      "2017-08-16 12:59:27.660462\n"
     ]
    }
   ],
   "source": [
    "import datetime; print(datetime.datetime.now())"
   ]
  },
  {
   "cell_type": "code",
   "execution_count": 2,
   "metadata": {
    "collapsed": true
   },
   "outputs": [],
   "source": [
    "from urbanmetabolism.population.model import run_calibrated_model\n",
    "from urbanmetabolism.population.model import TableModel\n",
    "from urbanmetabolism.population.model import _make_flat_model"
   ]
  },
  {
   "cell_type": "markdown",
   "metadata": {},
   "source": [
    "## Global variables"
   ]
  },
  {
   "cell_type": "code",
   "execution_count": 3,
   "metadata": {
    "collapsed": true
   },
   "outputs": [],
   "source": [
    "iterations = 100000\n",
    "year = 2016\n",
    "census_file = 'data/benchmarks_projected_wbias.csv'\n",
    "model_name = 'Sorsogon_Electricity_Water_wbias_projected_dynamic'"
   ]
  },
  {
   "cell_type": "markdown",
   "metadata": {},
   "source": [
    "## Define model"
   ]
  },
  {
   "cell_type": "code",
   "execution_count": 4,
   "metadata": {
    "collapsed": true
   },
   "outputs": [],
   "source": [
    "tm = TableModel(census_file = census_file, verbose=False)"
   ]
  },
  {
   "cell_type": "code",
   "execution_count": 5,
   "metadata": {
    "collapsed": true,
    "scrolled": false
   },
   "outputs": [],
   "source": [
    "# order matters\n",
    "tm.add_model('data/test_inc.csv',   'Income')\n",
    "tm.add_model('data/test_elec.csv',  'Electricity')\n",
    "tm.add_model('data/test_water.csv', 'Water')"
   ]
  },
  {
   "cell_type": "code",
   "execution_count": 6,
   "metadata": {
    "collapsed": true,
    "scrolled": false
   },
   "outputs": [],
   "source": [
    "tm.update_dynamic_model('Income', specific_col = 'Education')\n",
    "tm.update_dynamic_model('Income', specific_col = 'Size', val = 'mu', compute_average =  0)\n",
    "tm.update_dynamic_model('Income', specific_col = 'Age',  val = 'mu', compute_average = -4)"
   ]
  },
  {
   "cell_type": "code",
   "execution_count": 7,
   "metadata": {
    "collapsed": true
   },
   "outputs": [],
   "source": [
    "formula_elec = \"e_Intercept+\"+\"+\".join(\n",
    "    [\"c_{0}*{0}\".format(e) for e in tm.models['Electricity'][year].index if (e != 'e_Intercept')&\\\n",
    "                                                  (e != 'e_Income')])\n",
    "formula_elec += '+c_e_{0}*{0}'.format('Income')"
   ]
  },
  {
   "cell_type": "code",
   "execution_count": 8,
   "metadata": {
    "collapsed": true
   },
   "outputs": [],
   "source": [
    "tm.add_formula(formula_elec, 'Electricity')"
   ]
  },
  {
   "cell_type": "code",
   "execution_count": 9,
   "metadata": {
    "collapsed": true
   },
   "outputs": [],
   "source": [
    "formula_water = \"w_Intercept+\"+\"+\".join(\n",
    "    [\"c_{0}*{1}\".format(e, \"i_\"+\"_\".join(e.split('_')[1:]))\\\n",
    "         for e in tm.models['Water'][year].index if (e != 'w_Intercept')&\\\n",
    "                                 (e != 'w_Total_Family_Income')   &\\\n",
    "                                 (e != 'w_Education_cat')])\n",
    "formula_water += '+c_w_Total_Family_Income*Income'\n",
    "formula_water += '+c_w_Education_cat'"
   ]
  },
  {
   "cell_type": "code",
   "execution_count": 10,
   "metadata": {
    "collapsed": true
   },
   "outputs": [],
   "source": [
    "tm.add_formula(formula_water, 'Water')"
   ]
  },
  {
   "cell_type": "code",
   "execution_count": 11,
   "metadata": {
    "collapsed": true
   },
   "outputs": [],
   "source": [
    "table_model = tm.make_model()"
   ]
  },
  {
   "cell_type": "code",
   "execution_count": 13,
   "metadata": {},
   "outputs": [
    {
     "data": {
      "text/html": [
       "<div>\n",
       "<style>\n",
       "    .dataframe thead tr:only-child th {\n",
       "        text-align: right;\n",
       "    }\n",
       "\n",
       "    .dataframe thead th {\n",
       "        text-align: left;\n",
       "    }\n",
       "\n",
       "    .dataframe tbody tr th {\n",
       "        vertical-align: top;\n",
       "    }\n",
       "</style>\n",
       "<table border=\"1\" class=\"dataframe\">\n",
       "  <thead>\n",
       "    <tr style=\"text-align: right;\">\n",
       "      <th></th>\n",
       "      <th></th>\n",
       "      <th>2015</th>\n",
       "      <th>2020</th>\n",
       "      <th>2025</th>\n",
       "      <th>2030</th>\n",
       "    </tr>\n",
       "    <tr>\n",
       "      <th>major</th>\n",
       "      <th>minor</th>\n",
       "      <th></th>\n",
       "      <th></th>\n",
       "      <th></th>\n",
       "      <th></th>\n",
       "    </tr>\n",
       "  </thead>\n",
       "  <tbody>\n",
       "    <tr>\n",
       "      <th>e_AC</th>\n",
       "      <th>p</th>\n",
       "      <td>0.219252</td>\n",
       "      <td>0.480673</td>\n",
       "      <td>1</td>\n",
       "      <td>1</td>\n",
       "    </tr>\n",
       "    <tr>\n",
       "      <th>e_Cooking</th>\n",
       "      <th>p</th>\n",
       "      <td>0.0140988</td>\n",
       "      <td>0.0220279</td>\n",
       "      <td>0.167285</td>\n",
       "      <td>1</td>\n",
       "    </tr>\n",
       "    <tr>\n",
       "      <th>e_Lighting</th>\n",
       "      <th>p</th>\n",
       "      <td>0.941316</td>\n",
       "      <td>0.965079</td>\n",
       "      <td>0.989441</td>\n",
       "      <td>1</td>\n",
       "    </tr>\n",
       "    <tr>\n",
       "      <th>e_Refrigeration</th>\n",
       "      <th>p</th>\n",
       "      <td>0.547368</td>\n",
       "      <td>0.881561</td>\n",
       "      <td>1</td>\n",
       "      <td>1</td>\n",
       "    </tr>\n",
       "    <tr>\n",
       "      <th>e_TV</th>\n",
       "      <th>p</th>\n",
       "      <td>0.918967</td>\n",
       "      <td>1</td>\n",
       "      <td>1</td>\n",
       "      <td>1</td>\n",
       "    </tr>\n",
       "    <tr>\n",
       "      <th>e_Urban</th>\n",
       "      <th>p</th>\n",
       "      <td>0.548272</td>\n",
       "      <td>0.6356</td>\n",
       "      <td>0.736837</td>\n",
       "      <td>0.854207</td>\n",
       "    </tr>\n",
       "    <tr>\n",
       "      <th>e_Income</th>\n",
       "      <th>mu</th>\n",
       "      <td>12711.7</td>\n",
       "      <td>12711.7</td>\n",
       "      <td>12711.7</td>\n",
       "      <td>12711.7</td>\n",
       "    </tr>\n",
       "    <tr>\n",
       "      <th>e_Intercept</th>\n",
       "      <th>p</th>\n",
       "      <td>3.29998</td>\n",
       "      <td>3.29998</td>\n",
       "      <td>3.29998</td>\n",
       "      <td>3.29998</td>\n",
       "    </tr>\n",
       "  </tbody>\n",
       "</table>\n",
       "</div>"
      ],
      "text/plain": [
       "                            2015       2020      2025      2030\n",
       "major           minor                                          \n",
       "e_AC            p       0.219252   0.480673         1         1\n",
       "e_Cooking       p      0.0140988  0.0220279  0.167285         1\n",
       "e_Lighting      p       0.941316   0.965079  0.989441         1\n",
       "e_Refrigeration p       0.547368   0.881561         1         1\n",
       "e_TV            p       0.918967          1         1         1\n",
       "e_Urban         p       0.548272     0.6356  0.736837  0.854207\n",
       "e_Income        mu       12711.7    12711.7   12711.7   12711.7\n",
       "e_Intercept     p        3.29998    3.29998   3.29998   3.29998"
      ]
     },
     "execution_count": 13,
     "metadata": {},
     "output_type": "execute_result"
    }
   ],
   "source": [
    "table_model['Electricity']['table_model'].loc[[2015, 2020, 2025, 2030], :, ['mu', 'p']].to_frame()"
   ]
  },
  {
   "cell_type": "code",
   "execution_count": 14,
   "metadata": {},
   "outputs": [
    {
     "name": "stdout",
     "output_type": "stream",
     "text": [
      "Electricity =\n",
      "\t e_Intercept +\n",
      "\t c_e_AC*e_AC +\n",
      "\t c_e_Cooking*e_Cooking +\n",
      "\t c_e_Lighting*e_Lighting +\n",
      "\t c_e_Refrigeration*e_Refrigeration +\n",
      "\t c_e_TV*e_TV +\n",
      "\t c_e_Urban*e_Urban +\n",
      "\t c_e_Income*Income +\n"
     ]
    }
   ],
   "source": [
    "tm.print_formula('Electricity')"
   ]
  },
  {
   "cell_type": "markdown",
   "metadata": {},
   "source": [
    "## Define model variables"
   ]
  },
  {
   "cell_type": "code",
   "execution_count": 15,
   "metadata": {
    "collapsed": true
   },
   "outputs": [],
   "source": [
    "labels = ['age_0_18', 'age_19_25', 'age_26_35',\n",
    "          'age_36_45', 'age_46_55', 'age_56_65',\n",
    "          'age_66_75', 'age_76_85', 'age_86_100']\n",
    "cut = [0, 19, 26, 36, 46, 56, 66, 76, 86, 101]\n",
    "to_cat = {'i_HH_head_Age':[cut, labels]}\n",
    "drop_col_survey = ['e_Income', 'i_Urbanity']"
   ]
  },
  {
   "cell_type": "code",
   "execution_count": null,
   "metadata": {
    "collapsed": true,
    "scrolled": false
   },
   "outputs": [],
   "source": [
    "fw = run_calibrated_model(\n",
    "    table_model,\n",
    "    #verbose = True,\n",
    "    project = 'resample',\n",
    "    census_file = census_file,\n",
    "    year = year,\n",
    "    population_size = False,\n",
    "    name = '{}_{}'.format(model_name, iterations),\n",
    "    to_cat = to_cat,\n",
    "    iterations = iterations,\n",
    "    drop_col_survey = drop_col_survey)"
   ]
  }
 ],
 "metadata": {
  "kernelspec": {
   "display_name": "Python 3",
   "language": "python",
   "name": "python3"
  },
  "language_info": {
   "codemirror_mode": {
    "name": "ipython",
    "version": 3
   },
   "file_extension": ".py",
   "mimetype": "text/x-python",
   "name": "python",
   "nbconvert_exporter": "python",
   "pygments_lexer": "ipython3",
   "version": "3.6.2"
  }
 },
 "nbformat": 4,
 "nbformat_minor": 2
}
