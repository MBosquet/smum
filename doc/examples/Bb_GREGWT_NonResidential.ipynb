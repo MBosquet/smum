{
 "cells": [
  {
   "cell_type": "markdown",
   "metadata": {
    "slideshow": {
     "slide_type": "slide"
    }
   },
   "source": [
    "# Spatial$^{*}$ Microsimulation Urban Metabolism Model (SMUM)\n",
    "\n",
    "<div class=\"image123\">\n",
    "    <div class=\"imgContainer\">\n",
    "        <img src=\"./logos/UNEnvironment.png\" alt=\"UNEP logo\" style=\"width:200px\">\n",
    "    </div>\n",
    "    <div class=\"imgContainer\">\n",
    "        <img src=\"./logos/GI-REC.png\" alt=\"GI_REC logo\" style=\"width:200px\">\n",
    "    </div>\n",
    "</div>\n",
    "\n",
    "# (2.b) Non-Residential Model\n",
    "\n",
    "[UN Environment](http://www.unep.org/)"
   ]
  },
  {
   "cell_type": "code",
   "execution_count": 7,
   "metadata": {
    "slideshow": {
     "slide_type": "skip"
    }
   },
   "outputs": [
    {
     "name": "stdout",
     "output_type": "stream",
     "text": [
      "2017-10-25 14:42:26.286853\n"
     ]
    }
   ],
   "source": [
    "import datetime; print(datetime.datetime.now())"
   ]
  },
  {
   "cell_type": "markdown",
   "metadata": {
    "slideshow": {
     "slide_type": "slide"
    }
   },
   "source": [
    "**Notebook abstract**\n",
    "\n",
    "This notebook shows the main sampling and reweighting algorithm for the non-residential sector."
   ]
  },
  {
   "cell_type": "markdown",
   "metadata": {
    "slideshow": {
     "slide_type": "slide"
    }
   },
   "source": [
    "## Import libraries"
   ]
  },
  {
   "cell_type": "code",
   "execution_count": 8,
   "metadata": {
    "collapsed": true,
    "slideshow": {
     "slide_type": "fragment"
    }
   },
   "outputs": [],
   "source": [
    "from urbanmetabolism.population.model import run_calibrated_model\n",
    "from urbanmetabolism.population.model import plot_data_projection\n",
    "from urbanmetabolism.population.model import TableModel"
   ]
  },
  {
   "cell_type": "markdown",
   "metadata": {
    "slideshow": {
     "slide_type": "slide"
    }
   },
   "source": [
    "## Global variables"
   ]
  },
  {
   "cell_type": "code",
   "execution_count": 3,
   "metadata": {
    "collapsed": true,
    "slideshow": {
     "slide_type": "fragment"
    }
   },
   "outputs": [],
   "source": [
    "iterations = 1000\n",
    "benchmark_year = 2016\n",
    "census_file = 'data/benchmarks_nonresidential.csv'\n",
    "typ = 'resampled'\n",
    "model_name = 'Sorsogon_NonResidentialElectricity_wbias_projected_dynamic_{}'.format(typ)\n",
    "verbose = True\n",
    "drop_col_survey = ['n_BuildingKwh']"
   ]
  },
  {
   "cell_type": "markdown",
   "metadata": {
    "slideshow": {
     "slide_type": "slide"
    }
   },
   "source": [
    "## Define model"
   ]
  },
  {
   "cell_type": "code",
   "execution_count": 6,
   "metadata": {
    "slideshow": {
     "slide_type": "fragment"
    }
   },
   "outputs": [
    {
     "name": "stdout",
     "output_type": "stream",
     "text": [
      "--> census cols:  Index(['n_BuildingSqm', 'n_BuildingKwh', 'pop', 'NonRElectricity'], dtype='object')\n",
      "adding NonRElectricity model as dynamic model.\n",
      "\t| for all columns:\n",
      "\t| for specific column BuildingKwh\n",
      "\t| specific col: \t[]\n"
     ]
    },
    {
     "data": {
      "text/plain": [
       "False"
      ]
     },
     "execution_count": 6,
     "metadata": {},
     "output_type": "execute_result"
    }
   ],
   "source": [
    "table_model_name = 'data/table_elec_nr.csv'\n",
    "estimate_var = 'NonRElectricity'\n",
    "tm = TableModel(census_file = census_file, verbose=verbose)\n",
    "tm.add_model(table_model_name, estimate_var)\n",
    "tm.update_dynamic_model(estimate_var, specific_col = 'BuildingKwh')"
   ]
  },
  {
   "cell_type": "code",
   "execution_count": 5,
   "metadata": {
    "slideshow": {
     "slide_type": "fragment"
    }
   },
   "outputs": [
    {
     "data": {
      "text/html": [
       "<div>\n",
       "<style>\n",
       "    .dataframe thead tr:only-child th {\n",
       "        text-align: right;\n",
       "    }\n",
       "\n",
       "    .dataframe thead th {\n",
       "        text-align: left;\n",
       "    }\n",
       "\n",
       "    .dataframe tbody tr th {\n",
       "        vertical-align: top;\n",
       "    }\n",
       "</style>\n",
       "<table border=\"1\" class=\"dataframe\">\n",
       "  <thead>\n",
       "    <tr style=\"text-align: right;\">\n",
       "      <th></th>\n",
       "      <th>co_mu</th>\n",
       "      <th>co_sd</th>\n",
       "      <th>p</th>\n",
       "      <th>dis</th>\n",
       "      <th>lb</th>\n",
       "      <th>ub</th>\n",
       "    </tr>\n",
       "  </thead>\n",
       "  <tbody>\n",
       "    <tr>\n",
       "      <th>n_Building_sqm_cat</th>\n",
       "      <td>719.587128022,312.594751517,1165.99458393,703....</td>\n",
       "      <td>45.9315047501,27.8888172966,510.591052778,206....</td>\n",
       "      <td>0.0608498641378,0.091606063041,0.0106072914917...</td>\n",
       "      <td>Deterministic;n;Categorical</td>\n",
       "      <td>NaN</td>\n",
       "      <td>NaN</td>\n",
       "    </tr>\n",
       "    <tr>\n",
       "      <th>n_Building_kwh_cat</th>\n",
       "      <td>262,631,592,316,293,233,296,137,243</td>\n",
       "      <td>135.810529783,649.550998768,344.818792991,124....</td>\n",
       "      <td>0.0608498641378,0.091606063041,0.0106072914917...</td>\n",
       "      <td>Deterministic;Building_sqm_cat;Categorical</td>\n",
       "      <td>NaN</td>\n",
       "      <td>NaN</td>\n",
       "    </tr>\n",
       "  </tbody>\n",
       "</table>\n",
       "</div>"
      ],
      "text/plain": [
       "                                                                co_mu  \\\n",
       "n_Building_sqm_cat  719.587128022,312.594751517,1165.99458393,703....   \n",
       "n_Building_kwh_cat                262,631,592,316,293,233,296,137,243   \n",
       "\n",
       "                                                                co_sd  \\\n",
       "n_Building_sqm_cat  45.9315047501,27.8888172966,510.591052778,206....   \n",
       "n_Building_kwh_cat  135.810529783,649.550998768,344.818792991,124....   \n",
       "\n",
       "                                                                    p  \\\n",
       "n_Building_sqm_cat  0.0608498641378,0.091606063041,0.0106072914917...   \n",
       "n_Building_kwh_cat  0.0608498641378,0.091606063041,0.0106072914917...   \n",
       "\n",
       "                                                           dis  lb  ub  \n",
       "n_Building_sqm_cat                 Deterministic;n;Categorical NaN NaN  \n",
       "n_Building_kwh_cat  Deterministic;Building_sqm_cat;Categorical NaN NaN  "
      ]
     },
     "execution_count": 5,
     "metadata": {},
     "output_type": "execute_result"
    }
   ],
   "source": [
    "tm.models[estimate_var]"
   ]
  },
  {
   "cell_type": "code",
   "execution_count": 9,
   "metadata": {
    "slideshow": {
     "slide_type": "fragment"
    }
   },
   "outputs": [
    {
     "data": {
      "text/html": [
       "<div>\n",
       "<style>\n",
       "    .dataframe thead tr:only-child th {\n",
       "        text-align: right;\n",
       "    }\n",
       "\n",
       "    .dataframe thead th {\n",
       "        text-align: left;\n",
       "    }\n",
       "\n",
       "    .dataframe tbody tr th {\n",
       "        vertical-align: top;\n",
       "    }\n",
       "</style>\n",
       "<table border=\"1\" class=\"dataframe\">\n",
       "  <thead>\n",
       "    <tr style=\"text-align: right;\">\n",
       "      <th></th>\n",
       "      <th>co_mu</th>\n",
       "      <th>co_sd</th>\n",
       "      <th>p</th>\n",
       "      <th>dis</th>\n",
       "      <th>lb</th>\n",
       "      <th>ub</th>\n",
       "    </tr>\n",
       "  </thead>\n",
       "  <tbody>\n",
       "    <tr>\n",
       "      <th>n_Building_sqm_cat</th>\n",
       "      <td>719.587128022,312.594751517,1165.99458393,703....</td>\n",
       "      <td>45.9315047501,27.8888172966,510.591052778,206....</td>\n",
       "      <td>0.0608498641378,0.091606063041,0.0106072914917...</td>\n",
       "      <td>Deterministic;n;Categorical</td>\n",
       "      <td>NaN</td>\n",
       "      <td>NaN</td>\n",
       "    </tr>\n",
       "    <tr>\n",
       "      <th>n_Building_kwh_cat</th>\n",
       "      <td>262,631,592,316,293,233,296,137,243</td>\n",
       "      <td>135.810529783,649.550998768,344.818792991,124....</td>\n",
       "      <td>0.0608498641378,0.091606063041,0.0106072914917...</td>\n",
       "      <td>Deterministic;Building_sqm_cat;Categorical</td>\n",
       "      <td>NaN</td>\n",
       "      <td>NaN</td>\n",
       "    </tr>\n",
       "  </tbody>\n",
       "</table>\n",
       "</div>"
      ],
      "text/plain": [
       "                                                                co_mu  \\\n",
       "n_Building_sqm_cat  719.587128022,312.594751517,1165.99458393,703....   \n",
       "n_Building_kwh_cat                262,631,592,316,293,233,296,137,243   \n",
       "\n",
       "                                                                co_sd  \\\n",
       "n_Building_sqm_cat  45.9315047501,27.8888172966,510.591052778,206....   \n",
       "n_Building_kwh_cat  135.810529783,649.550998768,344.818792991,124....   \n",
       "\n",
       "                                                                    p  \\\n",
       "n_Building_sqm_cat  0.0608498641378,0.091606063041,0.0106072914917...   \n",
       "n_Building_kwh_cat  0.0608498641378,0.091606063041,0.0106072914917...   \n",
       "\n",
       "                                                           dis  lb  ub  \n",
       "n_Building_sqm_cat                 Deterministic;n;Categorical NaN NaN  \n",
       "n_Building_kwh_cat  Deterministic;Building_sqm_cat;Categorical NaN NaN  "
      ]
     },
     "execution_count": 9,
     "metadata": {},
     "output_type": "execute_result"
    }
   ],
   "source": [
    "tm.models[estimate_var]"
   ]
  },
  {
   "cell_type": "code",
   "execution_count": 9,
   "metadata": {
    "collapsed": true,
    "slideshow": {
     "slide_type": "slide"
    }
   },
   "outputs": [],
   "source": [
    "#formula_nrb = \"c_{} * c_{}\".format(*tm.models[estimate_var].loc[2010].index)\n",
    "#tm.add_formula(formula_nrb, estimate_var)\n",
    "#table_model = tm.make_model()\n",
    "#tm.to_excel()"
   ]
  },
  {
   "cell_type": "code",
   "execution_count": null,
   "metadata": {
    "collapsed": true
   },
   "outputs": [],
   "source": [
    "formula_nrb"
   ]
  },
  {
   "cell_type": "markdown",
   "metadata": {
    "slideshow": {
     "slide_type": "slide"
    }
   },
   "source": [
    "## Run model"
   ]
  },
  {
   "cell_type": "code",
   "execution_count": null,
   "metadata": {
    "collapsed": true,
    "scrolled": true,
    "slideshow": {
     "slide_type": "fragment"
    }
   },
   "outputs": [],
   "source": [
    "fw = run_calibrated_model(\n",
    "    table_model,\n",
    "    #verbose = True,\n",
    "    project = typ,\n",
    "    census_file = census_file,\n",
    "    year = benchmark_year,\n",
    "    population_size = False,\n",
    "    name = '{}_{}'.format(model_name, iterations),\n",
    "    iterations = iterations,\n",
    "    #drop_col_survey = drop_col_survey\n",
    ")"
   ]
  },
  {
   "cell_type": "markdown",
   "metadata": {
    "slideshow": {
     "slide_type": "slide"
    }
   },
   "source": [
    "## Plot results"
   ]
  },
  {
   "cell_type": "code",
   "execution_count": null,
   "metadata": {
    "collapsed": true,
    "slideshow": {
     "slide_type": "fragment"
    }
   },
   "outputs": [],
   "source": [
    "reweighted_survey = 'data/survey_{}_{}'.format(model_name, iterations)"
   ]
  },
  {
   "cell_type": "code",
   "execution_count": null,
   "metadata": {
    "collapsed": true,
    "slideshow": {
     "slide_type": "fragment"
    }
   },
   "outputs": [],
   "source": [
    "data = plot_data_projection(\n",
    "    reweighted_survey, [estimate_var], \"{}, {}\".format(iterations, typ),\n",
    "    benchmark_year=year, unit = \"building\")"
   ]
  },
  {
   "cell_type": "markdown",
   "metadata": {
    "collapsed": true,
    "slideshow": {
     "slide_type": "slide"
    }
   },
   "source": [
    "<div class=\"image123\">\n",
    "    <div class=\"imgContainer\">\n",
    "        <img src=\"./logos/UNEnvironment.png\" alt=\"UNEP logo\" style=\"width:200px\">\n",
    "    </div>\n",
    "    <div class=\"imgContainer\">\n",
    "        <img src=\"./logos/GI-REC.png\" alt=\"GI_REC logo\" style=\"width:200px\">\n",
    "    </div>\n",
    "</div>\n",
    "\n",
    "# (2.b) Non-Residential Model\n",
    "\n",
    "[UN Environment](http://www.unep.org/)\n",
    "\n",
    "[Home](Welcome.ipynb)\n",
    "\n",
    "[Next](Bc_GREGWT_validation_wbias.ipynb) (2.c) Model Internal Validation"
   ]
  }
 ],
 "metadata": {
  "celltoolbar": "Slideshow",
  "kernelspec": {
   "display_name": "Python 3",
   "language": "python",
   "name": "python3"
  },
  "language_info": {
   "codemirror_mode": {
    "name": "ipython",
    "version": 3
   },
   "file_extension": ".py",
   "mimetype": "text/x-python",
   "name": "python",
   "nbconvert_exporter": "python",
   "pygments_lexer": "ipython3",
   "version": "3.6.2"
  }
 },
 "nbformat": 4,
 "nbformat_minor": 2
}
