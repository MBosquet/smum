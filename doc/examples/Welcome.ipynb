{
 "cells": [
  {
   "cell_type": "markdown",
   "metadata": {
    "collapsed": true,
    "slideshow": {
     "slide_type": "slide"
    }
   },
   "source": [
    "# Spatial$^{*}$ Microsimulation Urban Metabolism Model (SMUM)\n",
    "\n",
    "<div class=\"image123\">\n",
    "    <div class=\"imgContainer\">\n",
    "        <img src=\"./logos/UNEnvironment.png\" alt=\"UNEP logo\" style=\"width:200px\">\n",
    "    </div>\n",
    "    <div class=\"imgContainer\">\n",
    "        <img src=\"./logos/GI-REC.png\" alt=\"GI_REC logo\" style=\"width:200px\">\n",
    "    </div>\n",
    "</div>\n",
    "\n",
    "[UN Environment](http://www.unep.org/)\n",
    "\n",
    "$^{*}$[Under development](https://github.com/emunozh/um)"
   ]
  },
  {
   "cell_type": "markdown",
   "metadata": {
    "slideshow": {
     "slide_type": "slide"
    }
   },
   "source": [
    "## Abstract:\n",
    "\n",
    "This is a simple implementation example of the developed **Spatial Microsimulation Urban Metabolism Model (SMUM)**.\n",
    "\n",
    "The aim of this model is to identify and quantify the impact of transition pathways to a circular economy.\n",
    "\n",
    "Two main method are implemented in the model, giving it it’s name:\n",
    "\n",
    "1. A Spatial Microsimulation creates a synthetic population; and\n",
    "2. An Urban Metabolism approach is used to benchmark consumption level at a city-level or neighborhood level (making it spatial)."
   ]
  },
  {
   "cell_type": "markdown",
   "metadata": {
    "slideshow": {
     "slide_type": "slide"
    }
   },
   "source": [
    "## (1) Constructing a synthetic population:\n",
    "\n",
    "### Aggregate level benchmarks\n",
    "\n",
    "[(1.a) Projecting demographic variables](Aa_ProjectionAggregates.ipynb)\n",
    "\n",
    "### Micro level consumption models\n",
    "\n",
    "[(1.b) Micro-level Income model](Ab_MCMC_income.ipynb)\n",
    "\n",
    "[(1.c) Micro-level Electricity demand model](Ac_MCMC_electricity.ipynb)\n",
    "\n",
    "[(1.d) Micro-level Water demand model](Ad_MCMC_water.ipynb)\n",
    "\n",
    "[(1.e) Micro-level Non-Residential model](Ae_MCMC_nonres.ipynb)"
   ]
  },
  {
   "cell_type": "markdown",
   "metadata": {
    "slideshow": {
     "slide_type": "fragment"
    }
   },
   "source": [
    "## (2) Sampling and reweighting\n",
    "\n",
    "## Dynamic samplic models\n",
    "\n",
    "[(2.a) Dynamic Sampling Model  and GREGWT](Ba_GREGWT_Dynamic.ipynb)\n",
    "\n",
    "[(2.b) Non-Residential Model](Bb_GREGWT_NonResidential.ipynb)\n",
    "\n",
    "## Model internal validation\n",
    "\n",
    "[(2.c) Model Internal Validation](Bc_GREGWT_validation_wbias.ipynb)"
   ]
  },
  {
   "cell_type": "markdown",
   "metadata": {
    "collapsed": true,
    "slideshow": {
     "slide_type": "fragment"
    }
   },
   "source": [
    "## (3) Constructing scenarions:\n",
    "\n",
    "[(3.a) Define Transition Scenarions](Ca_DefineTransitions.ipynb)\n",
    "\n",
    "[(3.b) Visualize transition scenarios](Cb_VisualizeTransitions.ipynb)"
   ]
  }
 ],
 "metadata": {
  "kernelspec": {
   "display_name": "Python 3",
   "language": "python",
   "name": "python3"
  },
  "language_info": {
   "codemirror_mode": {
    "name": "ipython",
    "version": 3
   },
   "file_extension": ".py",
   "mimetype": "text/x-python",
   "name": "python",
   "nbconvert_exporter": "python",
   "pygments_lexer": "ipython3",
   "version": "3.6.2"
  }
 },
 "nbformat": 4,
 "nbformat_minor": 2
}
